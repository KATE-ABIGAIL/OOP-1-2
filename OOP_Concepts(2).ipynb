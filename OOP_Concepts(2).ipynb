{
  "nbformat": 4,
  "nbformat_minor": 0,
  "metadata": {
    "colab": {
      "name": "OOP Concepts(2).ipynb",
      "provenance": [],
      "collapsed_sections": [],
      "authorship_tag": "ABX9TyMpN+nhjzx9mlA+B9hIV4/2",
      "include_colab_link": true
    },
    "kernelspec": {
      "name": "python3",
      "display_name": "Python 3"
    },
    "language_info": {
      "name": "python"
    }
  },
  "cells": [
    {
      "cell_type": "markdown",
      "metadata": {
        "id": "view-in-github",
        "colab_type": "text"
      },
      "source": [
        "<a href=\"https://colab.research.google.com/github/KATE-ABIGAIL/OOP-1-2/blob/main/OOP_Concepts(2).ipynb\" target=\"_parent\"><img src=\"https://colab.research.google.com/assets/colab-badge.svg\" alt=\"Open In Colab\"/></a>"
      ]
    },
    {
      "cell_type": "markdown",
      "source": [
        "  Classes with Multiple Objects"
      ],
      "metadata": {
        "id": "4RHdk3DAVOUr"
      }
    },
    {
      "cell_type": "code",
      "execution_count": null,
      "metadata": {
        "colab": {
          "base_uri": "https://localhost:8080/"
        },
        "id": "zYS6DOIgTuXK",
        "outputId": "13c6269b-a0e8-481a-80b7-3e3bfd82c645"
      },
      "outputs": [
        {
          "output_type": "stream",
          "name": "stdout",
          "text": [
            "Griffon Vulture flies above clouds\n",
            "Common Crane flies above clouds\n",
            "Emu is the national bird of the Philippines\n"
          ]
        }
      ],
      "source": [
        "class Birds:\n",
        "  def __init__(self, bird_name):\n",
        "    self.bird_name = bird_name\n",
        "\n",
        "  def flying_birds(self):\n",
        "    print(f\"{self.bird_name} flies above clouds\")\n",
        "\n",
        "  def non_flying_birds(self):\n",
        "    print(f\"{self.bird_name} is the national bird of the Philippines\")\n",
        "\n",
        "vulture = Birds(\"Griffon Vulture\")\n",
        "crane = Birds(\"Common Crane\")\n",
        "emu = Birds(\"Emu\")\n",
        "\n",
        "vulture.flying_birds()\n",
        "crane.flying_birds()\n",
        "emu.non_flying_birds()"
      ]
    },
    {
      "cell_type": "markdown",
      "source": [
        "Encapsulation using mangling with double underscores"
      ],
      "metadata": {
        "id": "QC3iI4j7XP_5"
      }
    },
    {
      "cell_type": "code",
      "source": [
        "class foo:\n",
        "  def __init__(self, a, b):\n",
        "    self.__a = a\n",
        "    self.__b = b\n",
        "\n",
        "  def add(self):\n",
        "    return self.__a + self.__b    #Private attributes\n",
        "\n",
        "number = foo(3,4)\n",
        "number.add()\n",
        "\n",
        "number.a = 7    #7+4 = 11\n",
        "number.add()"
      ],
      "metadata": {
        "colab": {
          "base_uri": "https://localhost:8080/"
        },
        "id": "RcCWSIgfXRYe",
        "outputId": "b5f94a6a-62be-4b5e-c390-d4b6032b7636"
      },
      "execution_count": null,
      "outputs": [
        {
          "output_type": "execute_result",
          "data": {
            "text/plain": [
              "7"
            ]
          },
          "metadata": {},
          "execution_count": 8
        }
      ]
    },
    {
      "cell_type": "markdown",
      "source": [
        "Encapsulation with Private Attributes"
      ],
      "metadata": {
        "id": "Rikd-i0vZZRC"
      }
    },
    {
      "cell_type": "code",
      "source": [
        "class Counter:\n",
        "  def __init__(self):\n",
        "    self.__current = 0\n",
        "\n",
        "  def increment(self):\n",
        "    self.__current += 1  \n",
        "  def value(self):\n",
        "    return self.__current\n",
        "  def reset(self):\n",
        "    self.__current = 0\n",
        "\n",
        "num = Counter()\n",
        "\n",
        "num.increment()       #counter = counter + 1\n",
        "num.increment()\n",
        "num.increment()\n",
        "\n",
        "num.counter = 1\n",
        "\n",
        "\n",
        "num.value()"
      ],
      "metadata": {
        "colab": {
          "base_uri": "https://localhost:8080/"
        },
        "id": "G0rCbJbfZCRV",
        "outputId": "7ff4c3e8-e32b-4ca4-86dd-6d29a0abb596"
      },
      "execution_count": null,
      "outputs": [
        {
          "output_type": "execute_result",
          "data": {
            "text/plain": [
              "3"
            ]
          },
          "metadata": {},
          "execution_count": 13
        }
      ]
    },
    {
      "cell_type": "markdown",
      "source": [
        "Inheretance"
      ],
      "metadata": {
        "id": "rIdDTXAuc3lp"
      }
    },
    {
      "cell_type": "code",
      "source": [
        "class Person:\n",
        "  def __init__(self, firstname, surname):\n",
        "    self.firstname = firstname\n",
        "    self.surname = surname\n",
        "\n",
        "  def printname(self):\n",
        "    print(self.firstname, self.surname)\n",
        "\n",
        "person = Person(\"Abby\", \"Palileo\")\n",
        "person.printname()\n",
        "\n",
        "class Teacher(Person):\n",
        "  pass \n",
        "\n",
        "person2 = Teacher(\"Maria\", \"Sayo\")\n",
        "person2.printname()\n",
        "\n",
        "class Student(Person):\n",
        "  pass\n",
        "\n",
        "person3 = Student(\"Dong Wook\", \"Lee\")\n",
        "person3.printname()"
      ],
      "metadata": {
        "colab": {
          "base_uri": "https://localhost:8080/"
        },
        "id": "0WfiMCRKc9zH",
        "outputId": "054c6073-47ab-424b-bb63-e021b8102171"
      },
      "execution_count": null,
      "outputs": [
        {
          "output_type": "stream",
          "name": "stdout",
          "text": [
            "Abby Palileo\n",
            "Maria Sayo\n",
            "Dong Wook Lee\n"
          ]
        }
      ]
    },
    {
      "cell_type": "markdown",
      "source": [
        "Polymorphism"
      ],
      "metadata": {
        "id": "WtbNC-FYfKq1"
      }
    },
    {
      "cell_type": "code",
      "source": [
        "class RegularPolygon:\n",
        "  def __init__(self, side):\n",
        "    self.side = side\n",
        "  \n",
        "class Square(RegularPolygon):\n",
        "  def area(self):\n",
        "    return self.side*self.side\n",
        "\n",
        "class EquilateralTriangle(RegularPolygon):\n",
        "  def area(self):\n",
        "    return self.side*self.side*0.433\n",
        "\n",
        "object = Square(4)\n",
        "print(object.area())\n",
        "\n",
        "object2 = EquilateralTriangle(3)\n",
        "print(object2.area())"
      ],
      "metadata": {
        "colab": {
          "base_uri": "https://localhost:8080/"
        },
        "id": "oJYKb5xDfMY0",
        "outputId": "50a4f931-6535-4b36-92f8-7471d5cf2442"
      },
      "execution_count": null,
      "outputs": [
        {
          "output_type": "stream",
          "name": "stdout",
          "text": [
            "16\n",
            "3.897\n"
          ]
        }
      ]
    },
    {
      "cell_type": "markdown",
      "source": [
        "Application 1"
      ],
      "metadata": {
        "id": "23DNyN1ChtU5"
      }
    },
    {
      "cell_type": "markdown",
      "source": [
        "1. Create a Python program that displays the name of three students (Students 1,Student 2, and Student 3) and their term grades.\n",
        "2. Create a class name Person and attributes - std1, std2, std3, pre, mid, fin\n",
        "3. Compute the average of each term grade using Grade() method.\n",
        "4. Information about student's grades must be hidden from others"
      ],
      "metadata": {
        "id": "KrfUDAaLh1Yf"
      }
    },
    {
      "cell_type": "code",
      "source": [
        "class Person:\n",
        "  def __init__(self, firstname, lastname):\n",
        "    self.firstname = firstname\n",
        "    self.lastname = lastname\n",
        "\n",
        "  def fullname(self):\n",
        "    print(self.firstname, self.lastname)\n",
        "\n",
        "std1 = Person(\"Kate Abigail\", \"Palileo\")\n",
        "std1.fullname()\n",
        "\n",
        "class Student(Person):\n",
        "  pass\n",
        "\n",
        "input_pre = float(input(\"Prelims: \"))\n",
        "input_mid = float(input(\"Midterms: \"))\n",
        "input_fin = float(input(\"Finals: \"))\n",
        "\n",
        "class Average:\n",
        "  def __init__(self, pre, mid, fin):\n",
        "    self.__pre = pre\n",
        "    self.__mid = mid\n",
        "    self.__fin = fin\n",
        "\n",
        "  def Grade(self):\n",
        "    return (self.__pre + self.__mid + self.__fin)/3\n",
        "\n",
        "average = Average(input_pre, input_mid, input_fin)\n",
        "print(\"Average:\",average.Grade())\n",
        "\n",
        "std2 = Person(\"\\nJeanmel\", \"Posa\")\n",
        "std2.fullname()\n",
        "\n",
        "class Student(Person):\n",
        "  pass\n",
        "\n",
        "input_pre = float(input(\"Prelims: \"))\n",
        "input_mid = float(input(\"Midterms: \"))\n",
        "input_fin = float(input(\"Finals: \"))\n",
        "\n",
        "class Average:\n",
        "  def __init__(self, pre, mid, fin):\n",
        "    self.__pre = pre\n",
        "    self.__mid = mid\n",
        "    self.__fin = fin\n",
        "\n",
        "  def Grade(self):\n",
        "    return (self.__pre + self.__mid + self.__fin)/3\n",
        "\n",
        "average = Average(input_pre, input_mid, input_fin)\n",
        "print(\"Average:\",average.Grade())\n",
        "\n",
        "std3 = Person(\"\\nLyka\", \"Bajita\")\n",
        "std3.fullname()\n",
        "\n",
        "class Student(Person):\n",
        "  pass\n",
        "\n",
        "input_pre = float(input(\"Prelims: \"))\n",
        "input_mid = float(input(\"Midterms: \"))\n",
        "input_fin = float(input(\"Finals: \"))\n",
        "\n",
        "class Average:\n",
        "  def __init__(self, pre, mid, fin):\n",
        "    self.__pre = pre\n",
        "    self.__mid = mid\n",
        "    self.__fin = fin\n",
        "\n",
        "  def Grade(self):\n",
        "    return (self.__pre + self.__mid + self.__fin)/3\n",
        "\n",
        "average = Average(input_pre, input_mid, input_fin)\n",
        "print(\"Average:\",average.Grade())"
      ],
      "metadata": {
        "colab": {
          "base_uri": "https://localhost:8080/"
        },
        "id": "Hb9x_xbDgKsG",
        "outputId": "b942b482-c007-4284-f52a-dceec04b6120"
      },
      "execution_count": 5,
      "outputs": [
        {
          "output_type": "stream",
          "name": "stdout",
          "text": [
            "Kate Abigail Palileo\n",
            "Prelims: 1.50\n",
            "Midterms: 1.25\n",
            "Finals: 1.25\n",
            "Average: 1.3333333333333333\n",
            "\n",
            "Jeanmel Posa\n",
            "Prelims: 1.75\n",
            "Midterms: 1.50\n",
            "Finals: 1.50\n",
            "Average: 1.5833333333333333\n",
            "\n",
            "Lyka Bajita\n",
            "Prelims: 1.25\n",
            "Midterms: 1.25\n",
            "Finals: 1.00\n",
            "Average: 1.1666666666666667\n"
          ]
        }
      ]
    }
  ]
}