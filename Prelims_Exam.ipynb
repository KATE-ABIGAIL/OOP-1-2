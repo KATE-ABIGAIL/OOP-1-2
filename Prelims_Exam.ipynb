{
  "nbformat": 4,
  "nbformat_minor": 0,
  "metadata": {
    "colab": {
      "name": "Prelims Exam.ipynb",
      "provenance": [],
      "authorship_tag": "ABX9TyMncA5DvKcq0i2uvTZ0EwrY",
      "include_colab_link": true
    },
    "kernelspec": {
      "name": "python3",
      "display_name": "Python 3"
    },
    "language_info": {
      "name": "python"
    }
  },
  "cells": [
    {
      "cell_type": "markdown",
      "metadata": {
        "id": "view-in-github",
        "colab_type": "text"
      },
      "source": [
        "<a href=\"https://colab.research.google.com/github/KATE-ABIGAIL/OOP-1-2/blob/main/Prelims_Exam.ipynb\" target=\"_parent\"><img src=\"https://colab.research.google.com/assets/colab-badge.svg\" alt=\"Open In Colab\"/></a>"
      ]
    },
    {
      "cell_type": "markdown",
      "source": [
        "##Problem 2\n",
        "1. Write a Python to display your full name, student number, age, and course.\n",
        "2. Create a class named Student with attributes: Name, Student_No, Age, School, and Course.\n",
        "3. Create an object name Myself and assign an instance for each attribute.\n",
        "4. Create a method Info() using an instantiation of a class.\n",
        "5. Insert your GitHub link \" Prelim Exam\" for your repository named \"OOP 1-2\"."
      ],
      "metadata": {
        "id": "6MgLs5_tRyGL"
      }
    },
    {
      "cell_type": "code",
      "execution_count": 5,
      "metadata": {
        "colab": {
          "base_uri": "https://localhost:8080/"
        },
        "id": "XOCHAUCbRui3",
        "outputId": "441c2830-89d6-4711-c70e-6a3d760bfc2a"
      },
      "outputs": [
        {
          "output_type": "stream",
          "name": "stdout",
          "text": [
            "Fullname: Kate Abigail H. Palileo\n",
            "Student Number: 202101928\n",
            "Age: 19 years old\n",
            "School: Cavite State University - Main Campus\n",
            "Course: Bachelor of Science in Computer Engineering\n"
          ]
        }
      ],
      "source": [
        "class Student:\n",
        "  def __init__(self, Name, Student_No, Age, School, Course):\n",
        "    self.Name = Name\n",
        "    self.Student_No = Student_No\n",
        "    self.Age = Age\n",
        "    self.School = School\n",
        "    self.Course = Course\n",
        "\n",
        "  def Info(self):\n",
        "    print(self.Name, self.Student_No, self.Age, self.School, self.Course)\n",
        "\n",
        "Myself = Student(\"Kate Abigail H. Palileo\", \"202101928\", \"19 years old\", \"Cavite State University - Main Campus\", \"Bachelor of Science in Computer Engineering\")\n",
        "\n",
        "print(\"Fullname:\", Myself.Name)\n",
        "print(\"Student Number:\", Myself.Student_No)\n",
        "print(\"Age:\", Myself.Age)\n",
        "print(\"School:\", Myself.School)\n",
        "print(\"Course:\", Myself.Course)"
      ]
    }
  ]
}