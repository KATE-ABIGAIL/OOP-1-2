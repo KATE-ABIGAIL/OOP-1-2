{
  "nbformat": 4,
  "nbformat_minor": 0,
  "metadata": {
    "colab": {
      "name": "OOP Concepts.ipynb",
      "provenance": [],
      "authorship_tag": "ABX9TyNLl5qbxCjeOm8NP1Sh+UF0",
      "include_colab_link": true
    },
    "kernelspec": {
      "name": "python3",
      "display_name": "Python 3"
    },
    "language_info": {
      "name": "python"
    }
  },
  "cells": [
    {
      "cell_type": "markdown",
      "metadata": {
        "id": "view-in-github",
        "colab_type": "text"
      },
      "source": [
        "<a href=\"https://colab.research.google.com/github/KATE-ABIGAIL/OOP-1-2/blob/main/OOP_Concepts.ipynb\" target=\"_parent\"><img src=\"https://colab.research.google.com/assets/colab-badge.svg\" alt=\"Open In Colab\"/></a>"
      ]
    },
    {
      "cell_type": "markdown",
      "source": [
        "##Python Classes and Objects"
      ],
      "metadata": {
        "id": "jq6W6MCfR_k_"
      }
    },
    {
      "cell_type": "markdown",
      "source": [
        "Create a Class"
      ],
      "metadata": {
        "id": "CGsZtb9hSUfO"
      }
    },
    {
      "cell_type": "code",
      "source": [
        "class Myclass:\n",
        "  pass"
      ],
      "metadata": {
        "id": "JF_piz7QSW3V"
      },
      "execution_count": 1,
      "outputs": []
    },
    {
      "cell_type": "code",
      "source": [
        "class OOP1_2:\n",
        "  X = 5\n",
        "  print(X)"
      ],
      "metadata": {
        "colab": {
          "base_uri": "https://localhost:8080/"
        },
        "id": "evODXo5BSviB",
        "outputId": "9e95c844-7880-452c-aaa5-f055c97d7f2d"
      },
      "execution_count": 2,
      "outputs": [
        {
          "output_type": "stream",
          "name": "stdout",
          "text": [
            "5\n"
          ]
        }
      ]
    },
    {
      "cell_type": "markdown",
      "source": [
        "Create Objects"
      ],
      "metadata": {
        "id": "DsL8d9ZfUDG-"
      }
    },
    {
      "cell_type": "code",
      "source": [
        "class OOP1_2:\n",
        "  def __init__(self,name,age):    #__init__(parameter)\n",
        "    self.name = name          #attributes\n",
        "    self.age = age\n",
        "\n",
        "  def identity(self):\n",
        "    print(self.name, self.age)\n",
        "\n",
        "person = OOP1_2(\"Kate\", 19) #create objects\n",
        "\n",
        "\n",
        "print(person.name)\n",
        "print(person.age)\n",
        "print(person.identity)"
      ],
      "metadata": {
        "colab": {
          "base_uri": "https://localhost:8080/"
        },
        "id": "pwklmzdqTMi0",
        "outputId": "68b4ce1d-3c5d-48eb-d15d-a2171b2735f0"
      },
      "execution_count": 8,
      "outputs": [
        {
          "output_type": "stream",
          "name": "stdout",
          "text": [
            "Kate\n",
            "19\n",
            "<bound method OOP1_2.identity of <__main__.OOP1_2 object at 0x7f88b8603a90>>\n"
          ]
        }
      ]
    },
    {
      "cell_type": "code",
      "source": [
        "#Modify the Object Name\n",
        "\n",
        "person.name = \"Abigail\"\n",
        "print(person.name)\n",
        "print(person.age)"
      ],
      "metadata": {
        "colab": {
          "base_uri": "https://localhost:8080/"
        },
        "id": "u-H7yOoCWmfW",
        "outputId": "1587d743-e61e-4a0a-bd00-8610e63f90a8"
      },
      "execution_count": 9,
      "outputs": [
        {
          "output_type": "stream",
          "name": "stdout",
          "text": [
            "Abigail\n",
            "19\n"
          ]
        }
      ]
    },
    {
      "cell_type": "code",
      "source": [
        "person.age = 20\n",
        "\n",
        "print(person.name)\n",
        "print(person.age)"
      ],
      "metadata": {
        "colab": {
          "base_uri": "https://localhost:8080/"
        },
        "id": "APRKaBk2W2kF",
        "outputId": "621167ed-dc75-40ac-adc5-f8b0184e9a50"
      },
      "execution_count": 11,
      "outputs": [
        {
          "output_type": "stream",
          "name": "stdout",
          "text": [
            "Abigail\n",
            "20\n"
          ]
        }
      ]
    },
    {
      "cell_type": "code",
      "source": [
        "#Delete the Object\n",
        "\n",
        "del person.name"
      ],
      "metadata": {
        "id": "eyN6zHRYXAdG"
      },
      "execution_count": 13,
      "outputs": []
    },
    {
      "cell_type": "code",
      "source": [
        "print(person.age)\n",
        "print(person.name)"
      ],
      "metadata": {
        "colab": {
          "base_uri": "https://localhost:8080/",
          "height": 200
        },
        "id": "MIwM4bYrY8Z8",
        "outputId": "3ecc959a-a52a-4ca0-d2dd-08ecccf707ec"
      },
      "execution_count": 15,
      "outputs": [
        {
          "output_type": "stream",
          "name": "stdout",
          "text": [
            "20\n"
          ]
        },
        {
          "output_type": "error",
          "ename": "AttributeError",
          "evalue": "ignored",
          "traceback": [
            "\u001b[0;31m---------------------------------------------------------------------------\u001b[0m",
            "\u001b[0;31mAttributeError\u001b[0m                            Traceback (most recent call last)",
            "\u001b[0;32m<ipython-input-15-a40730572b38>\u001b[0m in \u001b[0;36m<module>\u001b[0;34m()\u001b[0m\n\u001b[1;32m      1\u001b[0m \u001b[0mprint\u001b[0m\u001b[0;34m(\u001b[0m\u001b[0mperson\u001b[0m\u001b[0;34m.\u001b[0m\u001b[0mage\u001b[0m\u001b[0;34m)\u001b[0m\u001b[0;34m\u001b[0m\u001b[0;34m\u001b[0m\u001b[0m\n\u001b[0;32m----> 2\u001b[0;31m \u001b[0mprint\u001b[0m\u001b[0;34m(\u001b[0m\u001b[0mperson\u001b[0m\u001b[0;34m.\u001b[0m\u001b[0mname\u001b[0m\u001b[0;34m)\u001b[0m\u001b[0;34m\u001b[0m\u001b[0;34m\u001b[0m\u001b[0m\n\u001b[0m",
            "\u001b[0;31mAttributeError\u001b[0m: 'OOP1_2' object has no attribute 'name'"
          ]
        }
      ]
    },
    {
      "cell_type": "markdown",
      "source": [
        "Application 1 - Write a Python program that computes the area of a square, and name its class as Square, side as attributes"
      ],
      "metadata": {
        "id": "864DMPPfXm4H"
      }
    },
    {
      "cell_type": "code",
      "source": [
        "class Square:\n",
        "  def __init__(self,sides):\n",
        "    self.sides = sides\n",
        "  \n",
        "  def area(self):\n",
        "    return self.sides*self.sides  #formula to compute the area of the square\n",
        "\n",
        "  def display(self):\n",
        "    print(\"the area of the square is:\", self.area())\n",
        "\n",
        "square = Square(4)\n",
        "\n",
        "\n",
        "print(square.sides)\n",
        "square.display()"
      ],
      "metadata": {
        "colab": {
          "base_uri": "https://localhost:8080/"
        },
        "id": "k3e9us4dYDRE",
        "outputId": "023312b6-d19b-4ef9-c01c-c8d74b134b9e"
      },
      "execution_count": 22,
      "outputs": [
        {
          "output_type": "stream",
          "name": "stdout",
          "text": [
            "4\n",
            "the area of the square is: 16\n"
          ]
        }
      ]
    },
    {
      "cell_type": "markdown",
      "source": [
        "Application 2 - Write a Python program that displays your full name, age, course, school. Create a class named MyClass, and name, age, school as attributes."
      ],
      "metadata": {
        "id": "xnMA0q3mblfO"
      }
    },
    {
      "cell_type": "code",
      "source": [
        "class MyClass:\n",
        "  def __init__(self, name, age, course, school):\n",
        "    self.name = name\n",
        "    self.age = age\n",
        "    self.course = course\n",
        "    self.school = school\n",
        "\n",
        "  def identity(self):\n",
        "    print(self.name, self.age, self.course, self.school)\n",
        "\n",
        "person = MyClass(\"Kate\", 19, \"BS Computer Engineering\", \"CVSU-Main Campus\")\n",
        "\n",
        "print(person.name)\n",
        "print(person.age)\n",
        "print(person.course)\n",
        "print(person.school)\n",
        "  "
      ],
      "metadata": {
        "colab": {
          "base_uri": "https://localhost:8080/"
        },
        "id": "Nd4comMFb4wG",
        "outputId": "2b8cda37-5a0d-453d-8cc7-06fb05e71b44"
      },
      "execution_count": 26,
      "outputs": [
        {
          "output_type": "stream",
          "name": "stdout",
          "text": [
            "Kate\n",
            "19\n",
            "BS Computer Engineering\n",
            "CVSU-Main Campus\n"
          ]
        }
      ]
    }
  ]
}