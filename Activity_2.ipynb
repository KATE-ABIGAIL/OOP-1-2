{
  "nbformat": 4,
  "nbformat_minor": 0,
  "metadata": {
    "colab": {
      "name": "Activity 2.ipynb",
      "provenance": [],
      "authorship_tag": "ABX9TyOl+rru8rf0abvtY9eevvy8",
      "include_colab_link": true
    },
    "kernelspec": {
      "name": "python3",
      "display_name": "Python 3"
    },
    "language_info": {
      "name": "python"
    }
  },
  "cells": [
    {
      "cell_type": "markdown",
      "metadata": {
        "id": "view-in-github",
        "colab_type": "text"
      },
      "source": [
        "<a href=\"https://colab.research.google.com/github/KATE-ABIGAIL/OOP-1-2/blob/main/Activity_2.ipynb\" target=\"_parent\"><img src=\"https://colab.research.google.com/assets/colab-badge.svg\" alt=\"Open In Colab\"/></a>"
      ]
    },
    {
      "cell_type": "code",
      "execution_count": 15,
      "metadata": {
        "colab": {
          "base_uri": "https://localhost:8080/"
        },
        "id": "m5frjv1tW9hM",
        "outputId": "30fdbd05-a721-44d5-edd8-c2972190215f"
      },
      "outputs": [
        {
          "output_type": "stream",
          "name": "stdout",
          "text": [
            "Input temperature in Celsius: 40\n",
            "104.0\n"
          ]
        }
      ],
      "source": [
        "#Write a python program that converts the temperature Celsius to Fahrenheit. Create a class name Temperature.\n",
        "#Create Celsius as attribute name, Temp() as method, and temp1 as object name. F=1.8XC + 32\n",
        "\n",
        "class Temperature:\n",
        "  def __init__(self, Celsius):\n",
        "    self.Celsius = Celsius\n",
        "\n",
        "  def Temp(self):\n",
        "    return ((1.8*self.Celsius) + 32)\n",
        "\n",
        "\n",
        "input_temp = float(input(\"Input temperature in Celsius: \"))\n",
        "temp1 = Temperature(input_temp)\n",
        "print(round(temp1.Temp(),2))"
      ]
    }
  ]
}