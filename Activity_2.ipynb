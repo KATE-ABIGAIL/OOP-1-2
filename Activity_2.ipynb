{
  "nbformat": 4,
  "nbformat_minor": 0,
  "metadata": {
    "colab": {
      "name": "Activity 2.ipynb",
      "provenance": [],
      "authorship_tag": "ABX9TyNJjXbgH15qKzF2Kn2LySJ6",
      "include_colab_link": true
    },
    "kernelspec": {
      "name": "python3",
      "display_name": "Python 3"
    },
    "language_info": {
      "name": "python"
    }
  },
  "cells": [
    {
      "cell_type": "markdown",
      "metadata": {
        "id": "view-in-github",
        "colab_type": "text"
      },
      "source": [
        "<a href=\"https://colab.research.google.com/github/KATE-ABIGAIL/OOP-1-2/blob/main/Activity_2.ipynb\" target=\"_parent\"><img src=\"https://colab.research.google.com/assets/colab-badge.svg\" alt=\"Open In Colab\"/></a>"
      ]
    },
    {
      "cell_type": "code",
      "execution_count": null,
      "metadata": {
        "colab": {
          "base_uri": "https://localhost:8080/"
        },
        "id": "m5frjv1tW9hM",
        "outputId": "30fdbd05-a721-44d5-edd8-c2972190215f"
      },
      "outputs": [
        {
          "output_type": "stream",
          "name": "stdout",
          "text": [
            "Input temperature in Celsius: 40\n",
            "104.0\n"
          ]
        }
      ],
      "source": [
        "#Write a python program that converts the temperature Celsius to Fahrenheit. Create a class name Temperature.\n",
        "#Create Celsius as attribute name, Temp() as method, and temp1 as object name. F=1.8XC + 32\n",
        "\n",
        "class Temperature:\n",
        "  def __init__(self, Celsius):\n",
        "    self.Celsius = Celsius\n",
        "\n",
        "  def Temp(self):\n",
        "    return ((1.8*self.Celsius) + 32)\n",
        "\n",
        "\n",
        "input_temp = float(input(\"Input temperature in Celsius: \"))\n",
        "temp1 = Temperature(input_temp)\n",
        "print(round(temp1.Temp(),2))"
      ]
    },
    {
      "cell_type": "markdown",
      "source": [
        "##ASSIGNMENT 2"
      ],
      "metadata": {
        "id": "RQKxpy6NX9aS"
      }
    },
    {
      "cell_type": "code",
      "source": [
        "#1 Define an Area() method of the class that calculates the circle’s area.\n",
        "\n",
        "class Area:\n",
        "  def __init__(self, radius):\n",
        "    self.radius = radius\n",
        "\n",
        "  def Area(self):\n",
        "    return (3.14*(self.radius*self.radius))\n",
        "\n",
        "input_radius = float(input(\"Input the radius of the Circle: \"))\n",
        "area1 = Area(input_radius)\n",
        "print(\"The Area of the Circle is: \",area1.Area())"
      ],
      "metadata": {
        "colab": {
          "base_uri": "https://localhost:8080/"
        },
        "id": "P4kbtaYrX0Qn",
        "outputId": "1fb9c7a7-c091-4cdf-e1d1-6c3b3473697f"
      },
      "execution_count": 4,
      "outputs": [
        {
          "output_type": "stream",
          "name": "stdout",
          "text": [
            "Input the radius of the Circle: 3\n",
            "The Area of the Circle is:  28.26\n"
          ]
        }
      ]
    },
    {
      "cell_type": "code",
      "source": [
        "#2 Define a Perimeter() method of the class which allows you to calculate the perimeter of the circle.\n",
        "\n",
        "class Perimeter:\n",
        "  def __init__(self, radius):\n",
        "   self.radius = radius\n",
        "\n",
        "  def Perimeter(self):\n",
        "    return (2*3.14*self.radius)\n",
        "\n",
        "input_radius = float(input(\"Input the radius of the Circle: \"))\n",
        "perim1 = Perimeter(input_radius)\n",
        "print(\"The Perimeter of the Circle is: \", perim1.Perimeter()) "
      ],
      "metadata": {
        "colab": {
          "base_uri": "https://localhost:8080/"
        },
        "id": "qRy63KxMbUB8",
        "outputId": "244754a5-19eb-4c5b-f0ac-281146e356f0"
      },
      "execution_count": 8,
      "outputs": [
        {
          "output_type": "stream",
          "name": "stdout",
          "text": [
            "Input the radius of the Circle: 3\n",
            "The Perimeter of the Circle is:  18.84\n"
          ]
        }
      ]
    }
  ]
}